{
 "cells": [
  {
   "cell_type": "markdown",
   "metadata": {},
   "source": [
    "# FHI Module 7 Hands-on ---Breast Cancer Workbook"
   ]
  },
  {
   "cell_type": "markdown",
   "metadata": {},
   "source": [
    "## Time to get your hands dirty\n",
    "\n",
    "You've learned what we need to do and how the tool works. Now it is time for you to make it actually work.\n",
    "\n",
    "You are welcome to spend your time however you'd like but here are a few ideas of how to improve your system:\n",
    "* Improve targets.  Are there any False Negatives your system is missing?  Are there regular expressions that would help?\n",
    "* Improve modifiers.  Not all modifiers typically used in practice are the modifiers starter file.  Are there some to add?  Do some existing modifiers cause problems in your processing?  They can be changed or removed.\n",
    "* Improve document classification rules.  This is **optional**, because the default rules are ready to go. If you are interested, feel free the read the comments in the file to see how it works.\n",
    "\n",
    "## 1. Let's go"
   ]
  },
  {
   "cell_type": "code",
   "execution_count": 1,
   "metadata": {},
   "outputs": [],
   "source": [
    "# import packages that we will need\n",
    "from nlp_pneumonia_utils import read_doc_annotations\n",
    "from DocumentClassifier import DocumentClassifier\n",
    "from nlp_pneumonia_utils import list_errors\n",
    "from visual import Vis\n",
    "from visual import snippets_markup\n",
    "from visual import view_pycontext_output\n",
    "from visual import display_doc_text\n",
    "# packages for interaction\n",
    "from IPython.display import display, HTML\n",
    "import ipywidgets"
   ]
  },
  {
   "cell_type": "markdown",
   "metadata": {},
   "source": [
    "## 2. Load our training set"
   ]
  },
  {
   "cell_type": "code",
   "execution_count": 2,
   "metadata": {},
   "outputs": [
    {
     "name": "stdout",
     "output_type": "stream",
     "text": [
      "Reading annotations from file : data/bc_train.zip\n",
      "Opening local file : data/bc_train.zip\n",
      "Total Annotated Documents : 60\n"
     ]
    }
   ],
   "source": [
    "pos_doc_type='FAM_BREAST_CA_DOC'\n",
    "annotated_doc_map = read_doc_annotations(archive_file='data/bc_train.zip', pos_type=pos_doc_type)\n",
    "print('Total Annotated Documents : {0}'.format(len(annotated_doc_map)))"
   ]
  },
  {
   "cell_type": "markdown",
   "metadata": {},
   "source": [
    "## 3. Read in our Knowledge Base files\n",
    "**The targets file is seeded with one target: \"breast cancer\" and \"breast carcinoma\"**  ([target rule file](/edit/KB/fam_bc_targets.yml))  \n",
    "**The modifier file has all modifiers available with pyConText distribution, but the family history modifiers are not complete** ([modifier rule file](/edit/KB/fam_bc_modifiers.yml)) "
   ]
  },
  {
   "cell_type": "code",
   "execution_count": 3,
   "metadata": {},
   "outputs": [],
   "source": [
    "TARGETS_FILE_PATH = 'KB/fam_bc_targets.yml'\n",
    "MODIFIERS_FILE_PATH = 'KB/fam_bc_modifiers.yml'\n",
    "FEATURE_INFERENCER_FILE_PATH = 'KB/fam_bc_featurer_inferences.csv'\n",
    "DOC_INFERENCER_FILE_PATH = 'KB/fam_bc_doc_inferences.csv'\n",
    "# clear just in case files/regular expressions have been updated\n",
    "classifier = DocumentClassifier(TARGETS_FILE_PATH, MODIFIERS_FILE_PATH,\n",
    "                               FEATURE_INFERENCER_FILE_PATH, DOC_INFERENCER_FILE_PATH,\n",
    "                               {pos_doc_type})\n",
    "classifier.reset_saved_predictions()"
   ]
  },
  {
   "cell_type": "markdown",
   "metadata": {},
   "source": [
    "## 4. Let's classify some documents\n",
    "The function * list_errors* wraps up several functions together. It will compare the classifier's conclusions against the reference standard (manually annotated documents), and return the false positive documents (with pyConText markups), false negative documents (with manual annotations), and the measurements (precision, recall and F1).\n",
    "\n",
    "\n",
    "For the detailed implementation of this *list_errors* function, you can check the code in [nlp_pneumonia_utils](/edit/nlp_pneumonia_utils.py)."
   ]
  },
  {
   "cell_type": "code",
   "execution_count": 4,
   "metadata": {
    "scrolled": true
   },
   "outputs": [
    {
     "name": "stdout",
     "output_type": "stream",
     "text": [
      "****************\n",
      "Performance for Classifier :\n",
      "Start to evaluate against reference standards...\n",
      "Precision : 0.958\n",
      "Recall :    0.719\n",
      "F1:         0.821\n"
     ]
    },
    {
     "data": {
      "text/html": [
       "<div>\n",
       "<style scoped>\n",
       "    .dataframe tbody tr th:only-of-type {\n",
       "        vertical-align: middle;\n",
       "    }\n",
       "\n",
       "    .dataframe tbody tr th {\n",
       "        vertical-align: top;\n",
       "    }\n",
       "\n",
       "    .dataframe thead th {\n",
       "        text-align: right;\n",
       "    }\n",
       "</style>\n",
       "<table border=\"1\" class=\"dataframe\">\n",
       "  <thead>\n",
       "    <tr style=\"text-align: right;\">\n",
       "      <th>Predicted</th>\n",
       "      <th>1</th>\n",
       "      <th>0</th>\n",
       "    </tr>\n",
       "    <tr>\n",
       "      <th>Actual</th>\n",
       "      <th></th>\n",
       "      <th></th>\n",
       "    </tr>\n",
       "  </thead>\n",
       "  <tbody>\n",
       "    <tr>\n",
       "      <th>1</th>\n",
       "      <td>23</td>\n",
       "      <td>9</td>\n",
       "    </tr>\n",
       "    <tr>\n",
       "      <th>0</th>\n",
       "      <td>1</td>\n",
       "      <td>27</td>\n",
       "    </tr>\n",
       "  </tbody>\n",
       "</table>\n",
       "</div>"
      ],
      "text/plain": [
       "Predicted   1   0\n",
       "Actual           \n",
       "1          23   9\n",
       "0           1  27"
      ]
     },
     "metadata": {},
     "output_type": "display_data"
    },
    {
     "name": "stdout",
     "output_type": "stream",
     "text": [
      "****************\n",
      "CPU times: user 15.9 s, sys: 19.1 ms, total: 15.9 s\n",
      "Wall time: 15.9 s\n"
     ]
    }
   ],
   "source": [
    "%%time\n",
    "print('****************')\n",
    "print('Performance for Classifier :')\n",
    "current_false_negatives, current_false_positives, measurements,confusion_matrix_df = classifier.eval(annotated_doc_map)\n",
    "print(measurements)\n",
    "display(confusion_matrix_df)\n",
    "print('****************')"
   ]
  },
  {
   "cell_type": "markdown",
   "metadata": {},
   "source": [
    "## 5. Development of your system: can you improve the performance?\n",
    "* We have found the tools below for highlighting and graphing False Positives and False Negatives to be very useful.  We've provided them below in case it helps you as well\n",
    "\n",
    "Instructions:\n",
    "1. run the system and calculate performance\n",
    "2. review false negatives and positives and make changes to the target file or the modifier file\n",
    "3. repeat"
   ]
  },
  {
   "cell_type": "markdown",
   "metadata": {},
   "source": [
    "### 5.1 Review the False Negatives - we have provided two viewers below\n",
    "\n",
    "There are two reasons that our pipeline got false negative errors:\n",
    "\n",
    "1. We don't have the lexicon in your target file. If so, we need to add your new lexicon to KB/fam_bc_targets.yml\n",
    "2. Our context rule didn't identify the **family context**, you will need to add it to /KB/fam_bc_modifiers.yml\n",
    "3. Our context rule **excluded** the target concept. If so, we will need to locate the context rule, remove or modifiy it in your KB/fam_bc_modifiers.yml"
   ]
  },
  {
   "cell_type": "markdown",
   "metadata": {},
   "source": [
    "## False Negative Viewer - reference standard snippet annotations"
   ]
  },
  {
   "cell_type": "code",
   "execution_count": 5,
   "metadata": {},
   "outputs": [
    {
     "data": {
      "text/html": [
       "<html><div style=\"background-color:#f9f9f9;padding-left:10px;width: 877px; \"><table width=100% ><col style=\"width:25%\"><col style=\"width:75%\"></div><tr><th style=\"text-align:center\">document name</th><th style=\"text-align:center\">Snippets</th></table></div><div style=\"background-color:#f9f9f9;padding:10px; width: 900px; height: 400px; overflow-y: scroll;\"><table width=100% ><col style=\"width:25%\"><col style=\"width:75%\"><tr><td style=\"text-align:left\">16709</td><td></td></tr><tr><td></td><td style=\"text-align:left\">.\n",
       "\n",
       "FAMILY HISTORY:  The patient has a sister with <span style=\"color: blue;\">breast cancer</span>\n",
       "and two sisters with liver cancer.  Additionally </td></tr><tr><td style=\"text-align:left\">24880</td><td></td></tr><tr><td></td><td style=\"text-align:left\">y is significant only for a  \n",
       "maternal niece with <span style=\"color: blue;\">breast cancer</span> at the age of 78.  \n",
       "\n",
       " \n",
       "Physical Exam:\n",
       "Vitals - 97</td></tr><tr><td style=\"text-align:left\">24389</td><td></td></tr><tr><td></td><td style=\"text-align:left\">.\n",
       "\n",
       " \n",
       "Family History:\n",
       "Family History:\n",
       "One sister:  <span style=\"color: blue;\">Breast cancer</span> and colon cancer. \n",
       "One aughter:  Breast cancer an</td></tr><tr><td></td><td style=\"text-align:left\">:  Breast cancer and colon cancer. \n",
       "One aughter:  <span style=\"color: blue;\">Breast cancer</span> and colon cancer, thrombocytosis.  \n",
       "Other daughte</td></tr><tr><td style=\"text-align:left\">35010</td><td></td></tr><tr><td style=\"text-align:left\">17641</td><td></td></tr><tr><td></td><td style=\"text-align:left\">H: unclear, daughter is a poor historian, has h/o <span style=\"color: blue;\">breast ca</span> \n",
       "and possible pulmonary fibrosis, may also have d</td></tr><tr><td style=\"text-align:left\">3553</td><td></td></tr><tr><td style=\"text-align:left\">5834</td><td></td></tr><tr><td></td><td style=\"text-align:left\">y History:\n",
       "Father with lung ca at 76, mother with <span style=\"color: blue;\">breast ca</span> at 67, one \n",
       "grandson with cystic fibrosis.\n",
       " \n",
       "Phys</td></tr><tr><td style=\"text-align:left\">3020</td><td></td></tr><tr><td style=\"text-align:left\">32158</td><td></td></tr><tr><td style=\"text-align:left\">27562</td><td></td></tr><tr><td></td><td style=\"text-align:left\">t-time with \n",
       "caterers. \n",
       " \n",
       "Family History:\n",
       "Mother- <span style=\"color: blue;\">breast cancer</span>, stomach cancer Father: CVA, heart disease\n",
       " \n",
       "Phys</td></tr><tr><td style=\"text-align:left\">13725</td><td></td></tr><tr><td style=\"text-align:left\">13538</td><td></td></tr><tr><td style=\"text-align:left\">9016</td><td></td></tr><tr><td></td><td style=\"text-align:left\">east cancer at age \n",
       "62 and 2 cousins also dx with <span style=\"color: blue;\">breast cancer</span> around age 50.\n",
       " \n",
       "Physical Exam:\n",
       "T 101.9 P 95 RR 2</td></tr><tr><td style=\"text-align:left\">12598</td><td></td></tr><tr><td></td><td style=\"text-align:left\">MILY HISTORY:  Father with MI at 60.  Mother with <span style=\"color: blue;\">breast cancer</span>.  Sister with breast cancer.\n",
       "\n",
       "SOCIAL HISTORY:  Pa</td></tr><tr><td></td><td style=\"text-align:left\">I at 60.  Mother with breast cancer.  Sister with <span style=\"color: blue;\">breast cancer</span>.\n",
       "\n",
       "SOCIAL HISTORY:  Patient is a bus driver.  Posi</td></tr><tr><td style=\"text-align:left\">26440</td><td></td></tr><tr><td></td><td style=\"text-align:left\">of a stroke.\n",
       "She has a daughter living at 54 with <span style=\"color: blue;\">breast cancer</span>.\n",
       "\n",
       "PHYSICAL EXAMINATION ON PRESENTATION:   Physica</td></tr><tr><td style=\"text-align:left\">934</td><td></td></tr><tr><td></td><td style=\"text-align:left\"> to be 88 years of age, and she\n",
       "has a sister with <span style=\"color: blue;\">breast cancer</span>.\n",
       "\n",
       "PHYSICAL EXAMINATION:  In general, the patient </td></tr><tr><td style=\"text-align:left\">14572</td><td></td></tr><tr><td></td><td style=\"text-align:left\">al.\n",
       "\n",
       "FAMILY HISTORY:  Significant for mother with <span style=\"color: blue;\">breast cancer</span>.\n",
       "Sister with anal cancer and a brother with skin </td></tr><tr><td style=\"text-align:left\">26384</td><td></td></tr><tr><td style=\"text-align:left\">2131</td><td></td></tr><tr><td style=\"text-align:left\">30807</td><td></td></tr><tr><td></td><td style=\"text-align:left\">\n",
       " \n",
       "Family History:\n",
       "Remarkable for an aunt who had <span style=\"color: blue;\">breast cancer</span> in her 70s, a \n",
       "cousin who had breast cancer, the </td></tr><tr><td></td><td style=\"text-align:left\">o had breast cancer in her 70s, a \n",
       "cousin who had <span style=\"color: blue;\">breast cancer</span>, the age is unknown; and an uncle \n",
       "who died of so</td></tr><tr><td style=\"text-align:left\">7149</td><td></td></tr><tr><td></td><td style=\"text-align:left\">llicit drug use.   \n",
       " \n",
       "Family History:\n",
       "Mother with <span style=\"color: blue;\">breast cancer</span>. His father died of an unknown cardiac \n",
       "event at </td></tr><tr><td style=\"text-align:left\">13617</td><td></td></tr><tr><td></td><td style=\"text-align:left\">artery\n",
       "disease.  Mother died at 50 years old with <span style=\"color: blue;\">breast cancer</span>.  He\n",
       "has one brother with a heart attack history.</td></tr><tr><td style=\"text-align:left\">15323</td><td></td></tr><tr><td style=\"text-align:left\">11086</td><td></td></tr><tr><td style=\"text-align:left\">24780</td><td></td></tr><tr><td></td><td style=\"text-align:left\">sion. Her brother is healthy while her sister has <span style=\"color: blue;\">breast  cancer</span>. She does not have any biological children but sh</td></tr><tr><td style=\"text-align:left\">26546</td><td></td></tr><tr><td></td><td style=\"text-align:left\"> \n",
       "\n",
       " \n",
       "Family History:\n",
       "She had a sister who died of <span style=\"color: blue;\">breast cancer</span> at age 57. Her \n",
       "brother died of leukemia at age 5</td></tr><tr><td style=\"text-align:left\">34229</td><td></td></tr><tr><td style=\"text-align:left\">26683</td><td></td></tr><tr><td style=\"text-align:left\">10533</td><td></td></tr><tr><td></td><td style=\"text-align:left\"> induced sputum MAC+, s/p 2 weeks levo  \n",
       "#. Right <span style=\"color: blue;\">breast cancer</span>, s/p lumpectomy and radiation therapy in \n",
       "1947  \n",
       "</td></tr><tr><td></td><td style=\"text-align:left\">Rare  \n",
       "Illicits: None  \n",
       "\n",
       " \n",
       "Family History:\n",
       "Mother-<span style=\"color: blue;\">breast cancer</span>\n",
       "Fahter-colon cancer\n",
       "Grandmother-cancer\n",
       " \n",
       "Physical</td></tr><tr><td></td><td style=\"text-align:left\">iven patient's history there is also \n",
       "possibility <span style=\"color: blue;\">malignant effusion (breast</span> or lung) or radiation \n",
       "induced pericarditis. Give</td></tr><tr><td style=\"text-align:left\">32752</td><td></td></tr><tr><td style=\"text-align:left\">8037</td><td></td></tr><tr><td style=\"text-align:left\">15723</td><td></td></tr><tr><td style=\"text-align:left\">2674</td><td></td></tr><tr><td style=\"text-align:left\">17408</td><td></td></tr><tr><td style=\"text-align:left\">14357</td><td></td></tr><tr><td></td><td style=\"text-align:left\">ory of tobacco \n",
       "use. \n",
       "\n",
       " \n",
       "Family History:\n",
       "Sister - <span style=\"color: blue;\">breast cancer</span>-age 40\n",
       "\n",
       " \n",
       "Physical Exam:\n",
       "GENERAL:  jaundiced, thi</td></tr><tr><td style=\"text-align:left\">27959</td><td></td></tr><tr><td style=\"text-align:left\">11125</td><td></td></tr><tr><td style=\"text-align:left\">10575</td><td></td></tr><tr><td></td><td style=\"text-align:left\">History:\n",
       "Father-- coronary artery disease\n",
       "Mother- <span style=\"color: blue;\">breast cancer</span>\n",
       " \n",
       "Physical Exam:\n",
       "VS T= 98.2 HR= 78 (regular) BP =</td></tr><tr><td style=\"text-align:left\">32315</td><td></td></tr><tr><td></td><td style=\"text-align:left\">r with lung cancer, another sister \n",
       "with lung and <span style=\"color: blue;\">breast cancer</span>. Children healthy.\n",
       " \n",
       "Physical Exam:\n",
       "Vitals - T 97</td></tr><tr><td style=\"text-align:left\">10482</td><td></td></tr><tr><td style=\"text-align:left\">9400</td><td></td></tr><tr><td></td><td style=\"text-align:left\">ool incontinence  \n",
       "\n",
       " \n",
       "Social History:\n",
       "Mother with <span style=\"color: blue;\">breast cancer</span> at age 58.  \n",
       "Father with lung cancer at age 68.  </td></tr><tr><td style=\"text-align:left\">22997</td><td></td></tr><tr><td style=\"text-align:left\">32584</td><td></td></tr><tr><td style=\"text-align:left\">14401</td><td></td></tr><tr><td></td><td style=\"text-align:left\">ne.\n",
       "\n",
       "FAMILY HISTORY:  Coronary artery disease and <span style=\"color: blue;\">breast cancer</span>.\n",
       "No colon cancer of inflammatory bowel disease.\n",
       "\n",
       "</td></tr><tr><td style=\"text-align:left\">33094</td><td></td></tr><tr><td></td><td style=\"text-align:left\">xcept for maternal \n",
       "grandmother with a history of <span style=\"color: blue;\">breast cancer</span>. \n",
       " \n",
       "Physical Exam:\n",
       "Tc   96   BP   122/38   HR  96</td></tr><tr><td style=\"text-align:left\">12121</td><td></td></tr><tr><td></td><td style=\"text-align:left\">opausal\" \n",
       "on testosterone supplement\n",
       "Great aunt - <span style=\"color: blue;\">breast cancer</span>\n",
       "aunt - cervical cancer\n",
       "\"history of clotting in le</td></tr><tr><td style=\"text-align:left\">17346</td><td></td></tr><tr><td style=\"text-align:left\">29530</td><td></td></tr><tr><td></td><td style=\"text-align:left\">ug use.\n",
       " \n",
       "Family History:\n",
       "Per OMR, mother died of <span style=\"color: blue;\">breast cancer</span> at age 36, brother died of \n",
       "pancreatic cancer at </td></tr><tr><td style=\"text-align:left\">17992</td><td></td></tr><tr><td style=\"text-align:left\">9847</td><td></td></tr><tr><td style=\"text-align:left\">10998</td><td></td></tr><tr><td></td><td style=\"text-align:left\">History:\n",
       "Father-CA and AMI at age 61, grandmother-<span style=\"color: blue;\">breast CA</span> and diabetes, \n",
       "mother-diabetes, stroke, CAD.\n",
       "\n",
       " \n",
       "P</td></tr><tr><td style=\"text-align:left\">11515</td><td></td></tr><tr><td></td><td style=\"text-align:left\">rom trauma, brother had lung\n",
       " cancer, sister with <span style=\"color: blue;\">breast cancer</span>.  Another brother suffered \n",
       "from\n",
       " colon cancer in</td></tr><tr><td style=\"text-align:left\">24411</td><td></td></tr><tr><td></td><td style=\"text-align:left\">olon/uterine/cervix CA, maternal great aunt with \n",
       "<span style=\"color: blue;\">breast CA</span> \n",
       "Mother died last year of dementia\n",
       "Has a son with</td></tr><tr><td style=\"text-align:left\">33349</td><td></td></tr><tr><td></td><td style=\"text-align:left\"> as a secretary.\n",
       " \n",
       "Family History:\n",
       "Her mother had <span style=\"color: blue;\">breast CA</span> years ago and is well over 10 yrs from \n",
       "diagnosis</td></tr><tr><td style=\"text-align:left\">20838</td><td></td></tr><tr><td></td><td style=\"text-align:left\">ad \n",
       "non-Hodgkin's lymphoma. She had a sister with <span style=\"color: blue;\">breast cancer</span>. Her \n",
       "mother died of melanoma. She has one daught</td></tr><tr><td style=\"text-align:left\">5775</td><td></td></tr><tr><td></td><td style=\"text-align:left\">story:\n",
       "Father died of cardiac disease. Mother had <span style=\"color: blue;\">breast cancer</span>. One \n",
       "sibling, a brother with gastric cancer.  \n",
       "\n",
       "</td></tr><tr><td style=\"text-align:left\">2739</td><td></td></tr><tr><td style=\"text-align:left\">24008</td><td></td></tr><tr><td></td><td style=\"text-align:left\">istory:\n",
       "Father, 65, w/ prostate ca\n",
       "Mother, 66, w/ <span style=\"color: blue;\">breast ca</span>, sister w/ lupus\n",
       " \n",
       "Physical Exam:\n",
       "Vital signs- 97</td></tr><tr><td style=\"text-align:left\">20190</td><td></td></tr><tr><td></td><td style=\"text-align:left\">s.\n",
       "3. History of pyelonephritis one month ago.\n",
       "4. <span style=\"color: blue;\">Breast cancer</span> status post lumpectomy and radiation therapy\n",
       "in 2</td></tr><tr><td style=\"text-align:left\">18463</td><td></td></tr></table></div></html>"
      ],
      "text/plain": [
       "<IPython.core.display.HTML object>"
      ]
     },
     "metadata": {},
     "output_type": "display_data"
    }
   ],
   "source": [
    "fn_docs=dict((k, v) for k, v in annotated_doc_map.items() if k in current_false_negatives)\n",
    "display(HTML(snippets_markup(annotated_doc_map,'FAM_BREAST_CA')))"
   ]
  },
  {
   "cell_type": "markdown",
   "metadata": {},
   "source": [
    "If you are sure the target lexicon have been included in the targets file, then these false negatives errors must be caused by your modifiers that excluded these targets.Let's take a look at what pyConText output looks like:"
   ]
  },
  {
   "cell_type": "markdown",
   "metadata": {},
   "source": [
    "## False Negative Viewer - pyConText annotations"
   ]
  },
  {
   "cell_type": "code",
   "execution_count": 6,
   "metadata": {},
   "outputs": [
    {
     "data": {
      "application/vnd.jupyter.widget-view+json": {
       "model_id": "f603c71446914b84bc02d6fb961503d5",
       "version_major": 2,
       "version_minor": 0
      },
      "text/plain": [
       "interactive(children=(IntSlider(value=0, description='i', max=2), Output()), _dom_classes=('widget-interact',)…"
      ]
     },
     "metadata": {},
     "output_type": "display_data"
    }
   ],
   "source": [
    "# set up the visualizer for pyConText output\n",
    "vis=Vis(MODIFIERS_FILE_PATH)\n",
    "fn_docs = dict((k,v) for k, v in classifier.saved_markups_map.items() if k in current_false_negatives)\n",
    "view_pycontext_output(fn_docs,vis)"
   ]
  },
  {
   "cell_type": "markdown",
   "metadata": {},
   "source": [
    "### 5.2 Review the false positives\n",
    "For False Positives, it's most useful to see a pyConText graph since there may need to be modifiers adjusted so that targets can be properly utilized in classification"
   ]
  },
  {
   "cell_type": "code",
   "execution_count": 7,
   "metadata": {},
   "outputs": [
    {
     "data": {
      "application/vnd.jupyter.widget-view+json": {
       "model_id": "c7492aa8727444248c31a33b4c629c6b",
       "version_major": 2,
       "version_minor": 0
      },
      "text/plain": [
       "interactive(children=(IntSlider(value=0, description='i', max=0), Output()), _dom_classes=('widget-interact',)…"
      ]
     },
     "metadata": {},
     "output_type": "display_data"
    }
   ],
   "source": [
    "fp_docs = dict((k,v) for k, v in classifier.saved_markups_map.items() if k in current_false_positives)\n",
    "view_pycontext_output(fp_docs,vis)"
   ]
  },
  {
   "cell_type": "markdown",
   "metadata": {},
   "source": [
    "### 5.3 pyConText playground\n",
    "After you change your target and modifier rules, type a sentence below (str) and make sure the rule does what you think it does. \n",
    "(move above viewers)\n"
   ]
  },
  {
   "cell_type": "code",
   "execution_count": 11,
   "metadata": {},
   "outputs": [
    {
     "name": "stdout",
     "output_type": "stream",
     "text": [
      "Negative\n"
     ]
    },
    {
     "data": {
      "text/html": [
       "\n",
       "\t\t\t      <iframe src = \"tmp/x.html\" frameborder=\"0\" width = \"850\" height = \"140\">\n",
       "\t\t\t         Sorry your browser does not support inline frames.\n",
       "\t\t\t      </iframe>"
      ],
      "text/plain": [
       "<IPython.core.display.HTML object>"
      ]
     },
     "metadata": {},
     "output_type": "display_data"
    }
   ],
   "source": [
    "# Refresh the classifier with updated rules\n",
    "classifier = DocumentClassifier(TARGETS_FILE_PATH, MODIFIERS_FILE_PATH,\n",
    "                               FEATURE_INFERENCER_FILE_PATH, DOC_INFERENCER_FILE_PATH,\n",
    "                               {pos_doc_type})\n",
    "\n",
    "str='''his sister was dx breast cancer 20 years ago'''\n",
    "res=classifier.predict(str)\n",
    "print(\"Positive\" if res==1 else \"Negative\")\n",
    "view_pycontext_output(classifier.get_last_context_doc(), vis)"
   ]
  },
  {
   "cell_type": "markdown",
   "metadata": {},
   "source": [
    "## 6. Test Set Evaluation \n",
    "* We've been waiting for the test set.  It will not be available until the morning of the final class session.\n",
    "* At that time, you can uncomment this code and make any changes to it as instructed by the class instructors:"
   ]
  },
  {
   "cell_type": "code",
   "execution_count": 12,
   "metadata": {},
   "outputs": [
    {
     "name": "stdout",
     "output_type": "stream",
     "text": [
      "Reading annotations from file : img/bc_test.zip\n",
      "Opening local file : img/bc_test.zip\n",
      "****************\n",
      "Performance for Classifier on test set:\n",
      "Start to evaluate against reference standards...\n",
      "Precision : 1.000\n",
      "Recall :    0.682\n",
      "F1:         0.811\n"
     ]
    },
    {
     "data": {
      "text/html": [
       "<div>\n",
       "<style scoped>\n",
       "    .dataframe tbody tr th:only-of-type {\n",
       "        vertical-align: middle;\n",
       "    }\n",
       "\n",
       "    .dataframe tbody tr th {\n",
       "        vertical-align: top;\n",
       "    }\n",
       "\n",
       "    .dataframe thead th {\n",
       "        text-align: right;\n",
       "    }\n",
       "</style>\n",
       "<table border=\"1\" class=\"dataframe\">\n",
       "  <thead>\n",
       "    <tr style=\"text-align: right;\">\n",
       "      <th>Predicted</th>\n",
       "      <th>1</th>\n",
       "      <th>0</th>\n",
       "    </tr>\n",
       "    <tr>\n",
       "      <th>Actual</th>\n",
       "      <th></th>\n",
       "      <th></th>\n",
       "    </tr>\n",
       "  </thead>\n",
       "  <tbody>\n",
       "    <tr>\n",
       "      <th>1</th>\n",
       "      <td>15</td>\n",
       "      <td>7</td>\n",
       "    </tr>\n",
       "    <tr>\n",
       "      <th>0</th>\n",
       "      <td>0</td>\n",
       "      <td>18</td>\n",
       "    </tr>\n",
       "  </tbody>\n",
       "</table>\n",
       "</div>"
      ],
      "text/plain": [
       "Predicted   1   0\n",
       "Actual           \n",
       "1          15   7\n",
       "0           0  18"
      ]
     },
     "metadata": {},
     "output_type": "display_data"
    },
    {
     "name": "stdout",
     "output_type": "stream",
     "text": [
      "****************\n",
      "CPU times: user 7.67 s, sys: 6.75 ms, total: 7.68 s\n",
      "Wall time: 7.68 s\n"
     ]
    }
   ],
   "source": [
    "%%time\n",
    "annotated_doc_map = read_doc_annotations(archive_file='img/bc_test.zip', pos_type=pos_doc_type)\n",
    "\n",
    "classifier.reset_saved_predictions()\n",
    "print('****************')\n",
    "print('Performance for Classifier on test set:')\n",
    "current_false_negatives, current_false_positives, measurements,confusion_matrix_df = classifier.eval(annotated_doc_map)\n",
    "print(measurements)\n",
    "display(confusion_matrix_df)\n",
    "print('****************')"
   ]
  },
  {
   "cell_type": "code",
   "execution_count": null,
   "metadata": {},
   "outputs": [],
   "source": []
  },
  {
   "cell_type": "markdown",
   "metadata": {},
   "source": [
    "<br/><hr/>This material presented as part of the Foundations of Healthcare Informatics Course, 2017 Fall, BMI, University of Utah. It's revised from the <a href=\"https://github.com/UUDeCART/decart_rule_based_nlp\">material</a> of the DeCART  Summer Program (Data, exploration, Computation, and Analytics Real-world Training for the Health Sciences) at the University of Utah in 2017. <br/><br/>Original presenters : Dr. Wendy Chapman, Jianlin Shi and Kelly Peterson.<br/>\n",
    "Revised by: Jianlin Shi and Dr. Wendy Chapman<br/>\n",
    "<img align=\"left\" src=\"https://wiki.creativecommons.org/images/1/10/Cc.org_cc_by_license.jpg\" alt=\"Except where otherwise noted, this website is licensed under a Creative Commons Attribution 3.0 Unported License.\">"
   ]
  }
 ],
 "metadata": {
  "anaconda-cloud": {},
  "kernelspec": {
   "display_name": "Python 3",
   "language": "python",
   "name": "python3"
  },
  "language_info": {
   "codemirror_mode": {
    "name": "ipython",
    "version": 3
   },
   "file_extension": ".py",
   "mimetype": "text/x-python",
   "name": "python",
   "nbconvert_exporter": "python",
   "pygments_lexer": "ipython3",
   "version": "3.5.5"
  },
  "widgets": {
   "state": {
    "ac7a533c587a43b0a3920b63e791d721": {
     "views": [
      {
       "cell_index": 15
      }
     ]
    },
    "dea23c51b991477db8f99827fcabe7f0": {
     "views": [
      {
       "cell_index": 17
      }
     ]
    }
   },
   "version": "1.2.0"
  }
 },
 "nbformat": 4,
 "nbformat_minor": 1
}
